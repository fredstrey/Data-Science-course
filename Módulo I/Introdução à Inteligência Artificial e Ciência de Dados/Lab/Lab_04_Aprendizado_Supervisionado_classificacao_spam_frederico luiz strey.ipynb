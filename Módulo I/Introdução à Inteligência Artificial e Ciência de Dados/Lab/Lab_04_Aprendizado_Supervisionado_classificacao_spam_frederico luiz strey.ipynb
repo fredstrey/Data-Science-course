{
  "nbformat": 4,
  "nbformat_minor": 0,
  "metadata": {
    "colab": {
      "provenance": []
    },
    "kernelspec": {
      "name": "python3",
      "display_name": "Python 3"
    },
    "language_info": {
      "name": "python"
    }
  },
  "cells": [
    {
      "cell_type": "markdown",
      "metadata": {
        "id": "R_l32WylNm96"
      },
      "source": [
        "---\n",
        "<img src=\"https://ead.ufes.br/pluginfile.php/188418/course/summary/Banner%20IA%20e%20CD.png\" style=\"float: right;\">\n",
        "\n",
        "\n",
        "#  Aprendizado Supervisionado\n",
        "\n",
        "Utiliza conjuntos de dados rotulados que fazem o treinamento de algoritmos para classificar dados ou prever resultados com precisão. O modelo utiliza rótulos de dados para avaliar a relevância de diferentes características e melhorar gradualmente o desempenho dos resultados esperados.\n",
        "\n",
        "O aprendizado supervisionado é classificado em duas categorias principais:\n",
        "\n",
        "- **Classificação**: Problemas de classificação empregam algoritmos para classificar dados em segmentos específicos. Alguns algoritmos de classificação comuns:\n",
        "   - regressão logística (l*ogistic regression*);\n",
        "   - k-vizinhos mais próximos (KNN);\n",
        "   - floresta aleatória (*Random-Forest*);\n",
        "   - Naïve Bayes,\n",
        "   - gradiente descendente estocástico\n",
        "   - árvores de decisão (*decision tree*).\n",
        "\n",
        "\n",
        "- **Regressão**: Este é um método estatístico de ML que utiliza algoritmos para avaliar a relação entre uma variável dependente e, um ou diversos fatores isolados. Com modelos de regressão, é possível fazer previsões de causa e efeito com base em múltiplos pontos de dados. Em uma empresa, por exemplo, isso pode incluir a projeção do crescimento da receita publicitária. Entre alguns algoritmos de regressão comuns estão a regressão ridge, lasso, regressão de redes neurais e regressão logística.\n",
        "\n",
        "\n",
        "\n",
        "\n",
        "**Objetivo**\n",
        "\n",
        "A intenção desse notebook é exemplificar um pipeline de um problema de **classificação**.\n",
        "\n",
        "Não se apegue aqui com os detalhes da linguagem, você verá Python na próxima disciplina.\n",
        "\n",
        "**Resultados Esperados**\n",
        "\n",
        "1. Conceitos aprendizado  supervisionado\n",
        "1. Primeiro contato com a scikit Learn\n",
        "1. Carregar um conjunto de dados padrão: a base de dados  *Diabetes*\n",
        "1. Separar os dados em conjunto de treino e teste (por enquanto não vamos usar validação)\n",
        "1. Treinar uma regressão linear\n",
        "1. Calcular as métricas de erro"
      ]
    },
    {
      "cell_type": "markdown",
      "source": [
        "# Exemplo de um problema de classificação\n",
        "A intenção desse notebook é exemplificar um pipeline de um problema de classificação. Ainda não se preocupe muito sobre o código. O intuito é observar os conceitos (por enquanto). Na próxima aula já vamos avançar com codificação.\n",
        "\n",
        "Em resumo, vamos fazer o seguinte:\n",
        "- Carregar a base de emails rotulados como  normais e Spam https://archive.ics.uci.edu/dataset/94/spambase\n",
        "- Separar os dados em conjunto de treino e teste (por enquanto não vamos usar validação)\n",
        "- Aplicar uma normalização (vamos aprender mais sobre isso em breve)\n",
        "- Treinar uma regressão logistica\n",
        "- Calcular acurácia no conjunto de treino\n",
        "- Calcular acurácia no conjunto de teste"
      ],
      "metadata": {
        "id": "6cFxoIet7HU9"
      }
    },
    {
      "cell_type": "markdown",
      "metadata": {
        "id": "V9sXGhZoWe6y"
      },
      "source": [
        "## Introdução"
      ]
    },
    {
      "cell_type": "markdown",
      "metadata": {
        "id": "Uc1pAjDIMLmI"
      },
      "source": [
        "Aprendizado supervisionado é uma área de aprendizado de máquina que tem o objetivo de **aprender** de dados rotulados.\n",
        "\n",
        "Hoje, daremos foco aos problemas de classificação:\n",
        "\n",
        "**Modelos de Classificação** visam aprender as características das amostras e suas respectivas classes (também chamada de rótulo/label/target) para que possa acertar a classe de uma amostra desconhecida.\n",
        "\n",
        "Veja o cheat-sheet da sci-kit learn de quando usar classificação!\n"
      ]
    },
    {
      "cell_type": "markdown",
      "source": [
        "# Scikit-Learn - Mapa de algoritmos disponíves\n",
        "\n",
        "[<img src=\"https://scikit-learn.org/1.3/_static/ml_map.png\" style=\"float: right;\">](https://scikit-learn.org/1.3/tutorial/machine_learning_map/index.html)\n"
      ],
      "metadata": {
        "id": "rwlyIP0IunYe"
      }
    },
    {
      "cell_type": "markdown",
      "source": [
        "## Importandos as bibliotecas\n",
        "Vamos usar basicamente a `sklearn`. No módulo 2 já vamos aprender mais sobre ela. Por enquanto, aceita que ela existe e observe apenas o pipeline."
      ],
      "metadata": {
        "id": "JDdrh9E2-DBn"
      }
    },
    {
      "cell_type": "code",
      "source": [
        "from sklearn.preprocessing import MinMaxScaler\n",
        "from sklearn.model_selection import train_test_split\n",
        "import pandas as pd\n",
        "import numpy as np"
      ],
      "metadata": {
        "id": "6-yoNGxH-Gkd"
      },
      "execution_count": 1,
      "outputs": []
    },
    {
      "cell_type": "markdown",
      "source": [
        "## Carregando os dados\n",
        "\n",
        "Essa base de dados contém informações de emails sumarizados. Em resumo,  tem-se:\n",
        "\n",
        "1. Class Distribution:\n",
        "\n",
        "\tSpam\t  1813  (39.4%)\n",
        "\n",
        "\tNon-Spam  2788  (60.6%)\n",
        "\n",
        "1. Última coluna indica se é um spam ou não\n",
        "\n",
        "  Atributo de classe nominal {0,1} indica se o e-mail foi considerado spam (1) ou não (0).\n",
        "\n",
        "1. Demais atributos relativos a frequencia de palavras e letras no email.\n",
        "\n",
        "A descrição completa das características dos emails pode ser vista em https://archive.ics.uci.edu/dataset/94/spambase"
      ],
      "metadata": {
        "id": "5xPaehr_99RS"
      }
    },
    {
      "cell_type": "code",
      "source": [
        "df = pd.read_csv('http://www.inf.ufes.br/~vinicius.mota/Intro-IA-CD/08-metricas/spambase.data', header=None)\n",
        "df.head()"
      ],
      "metadata": {
        "colab": {
          "base_uri": "https://localhost:8080/",
          "height": 236
        },
        "id": "S_jJQ5xq-el2",
        "outputId": "9bc70a7d-e347-4ea5-b905-cbf69d12a832"
      },
      "execution_count": 2,
      "outputs": [
        {
          "output_type": "execute_result",
          "data": {
            "text/plain": [
              "     0     1     2    3     4     5     6     7     8     9   ...    48  \\\n",
              "0  0.00  0.64  0.64  0.0  0.32  0.00  0.00  0.00  0.00  0.00  ...  0.00   \n",
              "1  0.21  0.28  0.50  0.0  0.14  0.28  0.21  0.07  0.00  0.94  ...  0.00   \n",
              "2  0.06  0.00  0.71  0.0  1.23  0.19  0.19  0.12  0.64  0.25  ...  0.01   \n",
              "3  0.00  0.00  0.00  0.0  0.63  0.00  0.31  0.63  0.31  0.63  ...  0.00   \n",
              "4  0.00  0.00  0.00  0.0  0.63  0.00  0.31  0.63  0.31  0.63  ...  0.00   \n",
              "\n",
              "      49   50     51     52     53     54   55    56  57  \n",
              "0  0.000  0.0  0.778  0.000  0.000  3.756   61   278   1  \n",
              "1  0.132  0.0  0.372  0.180  0.048  5.114  101  1028   1  \n",
              "2  0.143  0.0  0.276  0.184  0.010  9.821  485  2259   1  \n",
              "3  0.137  0.0  0.137  0.000  0.000  3.537   40   191   1  \n",
              "4  0.135  0.0  0.135  0.000  0.000  3.537   40   191   1  \n",
              "\n",
              "[5 rows x 58 columns]"
            ],
            "text/html": [
              "\n",
              "  <div id=\"df-adc83ed4-c915-4ab2-a41b-ac82f376e064\" class=\"colab-df-container\">\n",
              "    <div>\n",
              "<style scoped>\n",
              "    .dataframe tbody tr th:only-of-type {\n",
              "        vertical-align: middle;\n",
              "    }\n",
              "\n",
              "    .dataframe tbody tr th {\n",
              "        vertical-align: top;\n",
              "    }\n",
              "\n",
              "    .dataframe thead th {\n",
              "        text-align: right;\n",
              "    }\n",
              "</style>\n",
              "<table border=\"1\" class=\"dataframe\">\n",
              "  <thead>\n",
              "    <tr style=\"text-align: right;\">\n",
              "      <th></th>\n",
              "      <th>0</th>\n",
              "      <th>1</th>\n",
              "      <th>2</th>\n",
              "      <th>3</th>\n",
              "      <th>4</th>\n",
              "      <th>5</th>\n",
              "      <th>6</th>\n",
              "      <th>7</th>\n",
              "      <th>8</th>\n",
              "      <th>9</th>\n",
              "      <th>...</th>\n",
              "      <th>48</th>\n",
              "      <th>49</th>\n",
              "      <th>50</th>\n",
              "      <th>51</th>\n",
              "      <th>52</th>\n",
              "      <th>53</th>\n",
              "      <th>54</th>\n",
              "      <th>55</th>\n",
              "      <th>56</th>\n",
              "      <th>57</th>\n",
              "    </tr>\n",
              "  </thead>\n",
              "  <tbody>\n",
              "    <tr>\n",
              "      <th>0</th>\n",
              "      <td>0.00</td>\n",
              "      <td>0.64</td>\n",
              "      <td>0.64</td>\n",
              "      <td>0.0</td>\n",
              "      <td>0.32</td>\n",
              "      <td>0.00</td>\n",
              "      <td>0.00</td>\n",
              "      <td>0.00</td>\n",
              "      <td>0.00</td>\n",
              "      <td>0.00</td>\n",
              "      <td>...</td>\n",
              "      <td>0.00</td>\n",
              "      <td>0.000</td>\n",
              "      <td>0.0</td>\n",
              "      <td>0.778</td>\n",
              "      <td>0.000</td>\n",
              "      <td>0.000</td>\n",
              "      <td>3.756</td>\n",
              "      <td>61</td>\n",
              "      <td>278</td>\n",
              "      <td>1</td>\n",
              "    </tr>\n",
              "    <tr>\n",
              "      <th>1</th>\n",
              "      <td>0.21</td>\n",
              "      <td>0.28</td>\n",
              "      <td>0.50</td>\n",
              "      <td>0.0</td>\n",
              "      <td>0.14</td>\n",
              "      <td>0.28</td>\n",
              "      <td>0.21</td>\n",
              "      <td>0.07</td>\n",
              "      <td>0.00</td>\n",
              "      <td>0.94</td>\n",
              "      <td>...</td>\n",
              "      <td>0.00</td>\n",
              "      <td>0.132</td>\n",
              "      <td>0.0</td>\n",
              "      <td>0.372</td>\n",
              "      <td>0.180</td>\n",
              "      <td>0.048</td>\n",
              "      <td>5.114</td>\n",
              "      <td>101</td>\n",
              "      <td>1028</td>\n",
              "      <td>1</td>\n",
              "    </tr>\n",
              "    <tr>\n",
              "      <th>2</th>\n",
              "      <td>0.06</td>\n",
              "      <td>0.00</td>\n",
              "      <td>0.71</td>\n",
              "      <td>0.0</td>\n",
              "      <td>1.23</td>\n",
              "      <td>0.19</td>\n",
              "      <td>0.19</td>\n",
              "      <td>0.12</td>\n",
              "      <td>0.64</td>\n",
              "      <td>0.25</td>\n",
              "      <td>...</td>\n",
              "      <td>0.01</td>\n",
              "      <td>0.143</td>\n",
              "      <td>0.0</td>\n",
              "      <td>0.276</td>\n",
              "      <td>0.184</td>\n",
              "      <td>0.010</td>\n",
              "      <td>9.821</td>\n",
              "      <td>485</td>\n",
              "      <td>2259</td>\n",
              "      <td>1</td>\n",
              "    </tr>\n",
              "    <tr>\n",
              "      <th>3</th>\n",
              "      <td>0.00</td>\n",
              "      <td>0.00</td>\n",
              "      <td>0.00</td>\n",
              "      <td>0.0</td>\n",
              "      <td>0.63</td>\n",
              "      <td>0.00</td>\n",
              "      <td>0.31</td>\n",
              "      <td>0.63</td>\n",
              "      <td>0.31</td>\n",
              "      <td>0.63</td>\n",
              "      <td>...</td>\n",
              "      <td>0.00</td>\n",
              "      <td>0.137</td>\n",
              "      <td>0.0</td>\n",
              "      <td>0.137</td>\n",
              "      <td>0.000</td>\n",
              "      <td>0.000</td>\n",
              "      <td>3.537</td>\n",
              "      <td>40</td>\n",
              "      <td>191</td>\n",
              "      <td>1</td>\n",
              "    </tr>\n",
              "    <tr>\n",
              "      <th>4</th>\n",
              "      <td>0.00</td>\n",
              "      <td>0.00</td>\n",
              "      <td>0.00</td>\n",
              "      <td>0.0</td>\n",
              "      <td>0.63</td>\n",
              "      <td>0.00</td>\n",
              "      <td>0.31</td>\n",
              "      <td>0.63</td>\n",
              "      <td>0.31</td>\n",
              "      <td>0.63</td>\n",
              "      <td>...</td>\n",
              "      <td>0.00</td>\n",
              "      <td>0.135</td>\n",
              "      <td>0.0</td>\n",
              "      <td>0.135</td>\n",
              "      <td>0.000</td>\n",
              "      <td>0.000</td>\n",
              "      <td>3.537</td>\n",
              "      <td>40</td>\n",
              "      <td>191</td>\n",
              "      <td>1</td>\n",
              "    </tr>\n",
              "  </tbody>\n",
              "</table>\n",
              "<p>5 rows × 58 columns</p>\n",
              "</div>\n",
              "    <div class=\"colab-df-buttons\">\n",
              "\n",
              "  <div class=\"colab-df-container\">\n",
              "    <button class=\"colab-df-convert\" onclick=\"convertToInteractive('df-adc83ed4-c915-4ab2-a41b-ac82f376e064')\"\n",
              "            title=\"Convert this dataframe to an interactive table.\"\n",
              "            style=\"display:none;\">\n",
              "\n",
              "  <svg xmlns=\"http://www.w3.org/2000/svg\" height=\"24px\" viewBox=\"0 -960 960 960\">\n",
              "    <path d=\"M120-120v-720h720v720H120Zm60-500h600v-160H180v160Zm220 220h160v-160H400v160Zm0 220h160v-160H400v160ZM180-400h160v-160H180v160Zm440 0h160v-160H620v160ZM180-180h160v-160H180v160Zm440 0h160v-160H620v160Z\"/>\n",
              "  </svg>\n",
              "    </button>\n",
              "\n",
              "  <style>\n",
              "    .colab-df-container {\n",
              "      display:flex;\n",
              "      gap: 12px;\n",
              "    }\n",
              "\n",
              "    .colab-df-convert {\n",
              "      background-color: #E8F0FE;\n",
              "      border: none;\n",
              "      border-radius: 50%;\n",
              "      cursor: pointer;\n",
              "      display: none;\n",
              "      fill: #1967D2;\n",
              "      height: 32px;\n",
              "      padding: 0 0 0 0;\n",
              "      width: 32px;\n",
              "    }\n",
              "\n",
              "    .colab-df-convert:hover {\n",
              "      background-color: #E2EBFA;\n",
              "      box-shadow: 0px 1px 2px rgba(60, 64, 67, 0.3), 0px 1px 3px 1px rgba(60, 64, 67, 0.15);\n",
              "      fill: #174EA6;\n",
              "    }\n",
              "\n",
              "    .colab-df-buttons div {\n",
              "      margin-bottom: 4px;\n",
              "    }\n",
              "\n",
              "    [theme=dark] .colab-df-convert {\n",
              "      background-color: #3B4455;\n",
              "      fill: #D2E3FC;\n",
              "    }\n",
              "\n",
              "    [theme=dark] .colab-df-convert:hover {\n",
              "      background-color: #434B5C;\n",
              "      box-shadow: 0px 1px 3px 1px rgba(0, 0, 0, 0.15);\n",
              "      filter: drop-shadow(0px 1px 2px rgba(0, 0, 0, 0.3));\n",
              "      fill: #FFFFFF;\n",
              "    }\n",
              "  </style>\n",
              "\n",
              "    <script>\n",
              "      const buttonEl =\n",
              "        document.querySelector('#df-adc83ed4-c915-4ab2-a41b-ac82f376e064 button.colab-df-convert');\n",
              "      buttonEl.style.display =\n",
              "        google.colab.kernel.accessAllowed ? 'block' : 'none';\n",
              "\n",
              "      async function convertToInteractive(key) {\n",
              "        const element = document.querySelector('#df-adc83ed4-c915-4ab2-a41b-ac82f376e064');\n",
              "        const dataTable =\n",
              "          await google.colab.kernel.invokeFunction('convertToInteractive',\n",
              "                                                    [key], {});\n",
              "        if (!dataTable) return;\n",
              "\n",
              "        const docLinkHtml = 'Like what you see? Visit the ' +\n",
              "          '<a target=\"_blank\" href=https://colab.research.google.com/notebooks/data_table.ipynb>data table notebook</a>'\n",
              "          + ' to learn more about interactive tables.';\n",
              "        element.innerHTML = '';\n",
              "        dataTable['output_type'] = 'display_data';\n",
              "        await google.colab.output.renderOutput(dataTable, element);\n",
              "        const docLink = document.createElement('div');\n",
              "        docLink.innerHTML = docLinkHtml;\n",
              "        element.appendChild(docLink);\n",
              "      }\n",
              "    </script>\n",
              "  </div>\n",
              "\n",
              "\n",
              "<div id=\"df-186e0f0a-73bc-4df7-9c8f-a1f52b9c0e1a\">\n",
              "  <button class=\"colab-df-quickchart\" onclick=\"quickchart('df-186e0f0a-73bc-4df7-9c8f-a1f52b9c0e1a')\"\n",
              "            title=\"Suggest charts\"\n",
              "            style=\"display:none;\">\n",
              "\n",
              "<svg xmlns=\"http://www.w3.org/2000/svg\" height=\"24px\"viewBox=\"0 0 24 24\"\n",
              "     width=\"24px\">\n",
              "    <g>\n",
              "        <path d=\"M19 3H5c-1.1 0-2 .9-2 2v14c0 1.1.9 2 2 2h14c1.1 0 2-.9 2-2V5c0-1.1-.9-2-2-2zM9 17H7v-7h2v7zm4 0h-2V7h2v10zm4 0h-2v-4h2v4z\"/>\n",
              "    </g>\n",
              "</svg>\n",
              "  </button>\n",
              "\n",
              "<style>\n",
              "  .colab-df-quickchart {\n",
              "      --bg-color: #E8F0FE;\n",
              "      --fill-color: #1967D2;\n",
              "      --hover-bg-color: #E2EBFA;\n",
              "      --hover-fill-color: #174EA6;\n",
              "      --disabled-fill-color: #AAA;\n",
              "      --disabled-bg-color: #DDD;\n",
              "  }\n",
              "\n",
              "  [theme=dark] .colab-df-quickchart {\n",
              "      --bg-color: #3B4455;\n",
              "      --fill-color: #D2E3FC;\n",
              "      --hover-bg-color: #434B5C;\n",
              "      --hover-fill-color: #FFFFFF;\n",
              "      --disabled-bg-color: #3B4455;\n",
              "      --disabled-fill-color: #666;\n",
              "  }\n",
              "\n",
              "  .colab-df-quickchart {\n",
              "    background-color: var(--bg-color);\n",
              "    border: none;\n",
              "    border-radius: 50%;\n",
              "    cursor: pointer;\n",
              "    display: none;\n",
              "    fill: var(--fill-color);\n",
              "    height: 32px;\n",
              "    padding: 0;\n",
              "    width: 32px;\n",
              "  }\n",
              "\n",
              "  .colab-df-quickchart:hover {\n",
              "    background-color: var(--hover-bg-color);\n",
              "    box-shadow: 0 1px 2px rgba(60, 64, 67, 0.3), 0 1px 3px 1px rgba(60, 64, 67, 0.15);\n",
              "    fill: var(--button-hover-fill-color);\n",
              "  }\n",
              "\n",
              "  .colab-df-quickchart-complete:disabled,\n",
              "  .colab-df-quickchart-complete:disabled:hover {\n",
              "    background-color: var(--disabled-bg-color);\n",
              "    fill: var(--disabled-fill-color);\n",
              "    box-shadow: none;\n",
              "  }\n",
              "\n",
              "  .colab-df-spinner {\n",
              "    border: 2px solid var(--fill-color);\n",
              "    border-color: transparent;\n",
              "    border-bottom-color: var(--fill-color);\n",
              "    animation:\n",
              "      spin 1s steps(1) infinite;\n",
              "  }\n",
              "\n",
              "  @keyframes spin {\n",
              "    0% {\n",
              "      border-color: transparent;\n",
              "      border-bottom-color: var(--fill-color);\n",
              "      border-left-color: var(--fill-color);\n",
              "    }\n",
              "    20% {\n",
              "      border-color: transparent;\n",
              "      border-left-color: var(--fill-color);\n",
              "      border-top-color: var(--fill-color);\n",
              "    }\n",
              "    30% {\n",
              "      border-color: transparent;\n",
              "      border-left-color: var(--fill-color);\n",
              "      border-top-color: var(--fill-color);\n",
              "      border-right-color: var(--fill-color);\n",
              "    }\n",
              "    40% {\n",
              "      border-color: transparent;\n",
              "      border-right-color: var(--fill-color);\n",
              "      border-top-color: var(--fill-color);\n",
              "    }\n",
              "    60% {\n",
              "      border-color: transparent;\n",
              "      border-right-color: var(--fill-color);\n",
              "    }\n",
              "    80% {\n",
              "      border-color: transparent;\n",
              "      border-right-color: var(--fill-color);\n",
              "      border-bottom-color: var(--fill-color);\n",
              "    }\n",
              "    90% {\n",
              "      border-color: transparent;\n",
              "      border-bottom-color: var(--fill-color);\n",
              "    }\n",
              "  }\n",
              "</style>\n",
              "\n",
              "  <script>\n",
              "    async function quickchart(key) {\n",
              "      const quickchartButtonEl =\n",
              "        document.querySelector('#' + key + ' button');\n",
              "      quickchartButtonEl.disabled = true;  // To prevent multiple clicks.\n",
              "      quickchartButtonEl.classList.add('colab-df-spinner');\n",
              "      try {\n",
              "        const charts = await google.colab.kernel.invokeFunction(\n",
              "            'suggestCharts', [key], {});\n",
              "      } catch (error) {\n",
              "        console.error('Error during call to suggestCharts:', error);\n",
              "      }\n",
              "      quickchartButtonEl.classList.remove('colab-df-spinner');\n",
              "      quickchartButtonEl.classList.add('colab-df-quickchart-complete');\n",
              "    }\n",
              "    (() => {\n",
              "      let quickchartButtonEl =\n",
              "        document.querySelector('#df-186e0f0a-73bc-4df7-9c8f-a1f52b9c0e1a button');\n",
              "      quickchartButtonEl.style.display =\n",
              "        google.colab.kernel.accessAllowed ? 'block' : 'none';\n",
              "    })();\n",
              "  </script>\n",
              "</div>\n",
              "\n",
              "    </div>\n",
              "  </div>\n"
            ],
            "application/vnd.google.colaboratory.intrinsic+json": {
              "type": "dataframe",
              "variable_name": "df"
            }
          },
          "metadata": {},
          "execution_count": 2
        }
      ]
    },
    {
      "cell_type": "code",
      "source": [
        "df.info()"
      ],
      "metadata": {
        "colab": {
          "base_uri": "https://localhost:8080/"
        },
        "id": "YFtxsFRrAGyk",
        "outputId": "315cab49-7c58-46c7-9f98-3b9dd5576aca"
      },
      "execution_count": 3,
      "outputs": [
        {
          "output_type": "stream",
          "name": "stdout",
          "text": [
            "<class 'pandas.core.frame.DataFrame'>\n",
            "RangeIndex: 4601 entries, 0 to 4600\n",
            "Data columns (total 58 columns):\n",
            " #   Column  Non-Null Count  Dtype  \n",
            "---  ------  --------------  -----  \n",
            " 0   0       4601 non-null   float64\n",
            " 1   1       4601 non-null   float64\n",
            " 2   2       4601 non-null   float64\n",
            " 3   3       4601 non-null   float64\n",
            " 4   4       4601 non-null   float64\n",
            " 5   5       4601 non-null   float64\n",
            " 6   6       4601 non-null   float64\n",
            " 7   7       4601 non-null   float64\n",
            " 8   8       4601 non-null   float64\n",
            " 9   9       4601 non-null   float64\n",
            " 10  10      4601 non-null   float64\n",
            " 11  11      4601 non-null   float64\n",
            " 12  12      4601 non-null   float64\n",
            " 13  13      4601 non-null   float64\n",
            " 14  14      4601 non-null   float64\n",
            " 15  15      4601 non-null   float64\n",
            " 16  16      4601 non-null   float64\n",
            " 17  17      4601 non-null   float64\n",
            " 18  18      4601 non-null   float64\n",
            " 19  19      4601 non-null   float64\n",
            " 20  20      4601 non-null   float64\n",
            " 21  21      4601 non-null   float64\n",
            " 22  22      4601 non-null   float64\n",
            " 23  23      4601 non-null   float64\n",
            " 24  24      4601 non-null   float64\n",
            " 25  25      4601 non-null   float64\n",
            " 26  26      4601 non-null   float64\n",
            " 27  27      4601 non-null   float64\n",
            " 28  28      4601 non-null   float64\n",
            " 29  29      4601 non-null   float64\n",
            " 30  30      4601 non-null   float64\n",
            " 31  31      4601 non-null   float64\n",
            " 32  32      4601 non-null   float64\n",
            " 33  33      4601 non-null   float64\n",
            " 34  34      4601 non-null   float64\n",
            " 35  35      4601 non-null   float64\n",
            " 36  36      4601 non-null   float64\n",
            " 37  37      4601 non-null   float64\n",
            " 38  38      4601 non-null   float64\n",
            " 39  39      4601 non-null   float64\n",
            " 40  40      4601 non-null   float64\n",
            " 41  41      4601 non-null   float64\n",
            " 42  42      4601 non-null   float64\n",
            " 43  43      4601 non-null   float64\n",
            " 44  44      4601 non-null   float64\n",
            " 45  45      4601 non-null   float64\n",
            " 46  46      4601 non-null   float64\n",
            " 47  47      4601 non-null   float64\n",
            " 48  48      4601 non-null   float64\n",
            " 49  49      4601 non-null   float64\n",
            " 50  50      4601 non-null   float64\n",
            " 51  51      4601 non-null   float64\n",
            " 52  52      4601 non-null   float64\n",
            " 53  53      4601 non-null   float64\n",
            " 54  54      4601 non-null   float64\n",
            " 55  55      4601 non-null   int64  \n",
            " 56  56      4601 non-null   int64  \n",
            " 57  57      4601 non-null   int64  \n",
            "dtypes: float64(55), int64(3)\n",
            "memory usage: 2.0 MB\n"
          ]
        }
      ]
    },
    {
      "cell_type": "markdown",
      "source": [
        "## Separando os vetores de características e de rótulos"
      ],
      "metadata": {
        "id": "0sXlXe8CAf5j"
      }
    },
    {
      "cell_type": "code",
      "execution_count": 4,
      "metadata": {
        "id": "b2ILE8A04M7H"
      },
      "outputs": [],
      "source": [
        "X = df.iloc[:,:-1]\n",
        "y = df.iloc[:,-1]\n",
        "nome_labels =  np.array(['Not-Spam', 'Spam'])\n"
      ]
    },
    {
      "cell_type": "markdown",
      "source": [
        "## Pre-processamento dos dados\n",
        "- Dividir o dataset me treino e teste\n",
        "- Normalizar os dados usando `MinMaxScaler`"
      ],
      "metadata": {
        "id": "MffJ4lmz_Mo5"
      }
    },
    {
      "cell_type": "code",
      "source": [
        "X_treino, X_teste, y_treino, y_teste = train_test_split(X, y, test_size=0.25, shuffle=True, random_state=32)\n",
        "print(f\"Tamanho do conjunto de treino: {len(X_treino)}\")\n",
        "print(f\"Tamanho do conjunto de teste: {len(X_teste)}\")"
      ],
      "metadata": {
        "id": "FwXIgZbG_TQn",
        "colab": {
          "base_uri": "https://localhost:8080/"
        },
        "outputId": "6a2911bc-daac-4d0d-e3a7-6eb1e683a388"
      },
      "execution_count": 5,
      "outputs": [
        {
          "output_type": "stream",
          "name": "stdout",
          "text": [
            "Tamanho do conjunto de treino: 3450\n",
            "Tamanho do conjunto de teste: 1151\n"
          ]
        }
      ]
    },
    {
      "cell_type": "markdown",
      "source": [
        "### Normalizando os dados"
      ],
      "metadata": {
        "id": "OiD3QxGH_an_"
      }
    },
    {
      "cell_type": "code",
      "source": [
        "normalizador = MinMaxScaler()\n",
        "normalizador.fit(X_treino)\n",
        "X_treino_norm = normalizador.transform(X_treino)\n",
        "X_teste_norm = normalizador.transform(X_teste)"
      ],
      "metadata": {
        "id": "YVornkMu_cpV"
      },
      "execution_count": 6,
      "outputs": []
    },
    {
      "cell_type": "markdown",
      "source": [
        "## Configurando e treinando um  modelo\n",
        "\n",
        "No código exemplo, importamos e configuramos uma regressão logística\n",
        "\n",
        "Para o exercício deste Colab, você irá alterar o modelo e executar novamente daqui em diante."
      ],
      "metadata": {
        "id": "bUFeKLtK_mw4"
      }
    },
    {
      "cell_type": "code",
      "source": [
        "#@title importando as bibibliotecas\n",
        "\n",
        "from sklearn.ensemble import AdaBoostClassifier, RandomForestClassifier\n",
        "from sklearn.gaussian_process import GaussianProcessClassifier\n",
        "from sklearn.gaussian_process.kernels import RBF\n",
        "from sklearn.inspection import DecisionBoundaryDisplay\n",
        "from sklearn.model_selection import train_test_split\n",
        "from sklearn.naive_bayes import GaussianNB\n",
        "from sklearn.neighbors import KNeighborsClassifier\n",
        "from sklearn.neural_network import MLPClassifier\n",
        "from sklearn.pipeline import make_pipeline\n",
        "from sklearn.preprocessing import StandardScaler\n",
        "from sklearn.svm import SVC\n",
        "from sklearn.tree import DecisionTreeClassifier\n",
        "from sklearn.linear_model import LogisticRegression"
      ],
      "metadata": {
        "id": "By90Xknox0ak"
      },
      "execution_count": 7,
      "outputs": []
    },
    {
      "cell_type": "markdown",
      "source": [
        "### Selecionando um modelo de aprendizado supervisionado"
      ],
      "metadata": {
        "id": "EPXtWRd6yHic"
      }
    },
    {
      "cell_type": "markdown",
      "source": [
        "Substitua a célula abaixo para os exercícios no final deste Notebook."
      ],
      "metadata": {
        "id": "znuuM4Z2HcMw"
      }
    },
    {
      "cell_type": "code",
      "source": [
        "modelo = LogisticRegression()"
      ],
      "metadata": {
        "id": "096hHHC8_fot"
      },
      "execution_count": 8,
      "outputs": []
    },
    {
      "cell_type": "code",
      "source": [
        "modelo.fit(X_treino_norm, y_treino)"
      ],
      "metadata": {
        "colab": {
          "base_uri": "https://localhost:8080/",
          "height": 75
        },
        "id": "BGXm2DBhlgc4",
        "outputId": "cd9ab04e-3b5a-4a27-b476-85a5fb70b54b"
      },
      "execution_count": 9,
      "outputs": [
        {
          "output_type": "execute_result",
          "data": {
            "text/plain": [
              "LogisticRegression()"
            ],
            "text/html": [
              "<style>#sk-container-id-1 {color: black;}#sk-container-id-1 pre{padding: 0;}#sk-container-id-1 div.sk-toggleable {background-color: white;}#sk-container-id-1 label.sk-toggleable__label {cursor: pointer;display: block;width: 100%;margin-bottom: 0;padding: 0.3em;box-sizing: border-box;text-align: center;}#sk-container-id-1 label.sk-toggleable__label-arrow:before {content: \"▸\";float: left;margin-right: 0.25em;color: #696969;}#sk-container-id-1 label.sk-toggleable__label-arrow:hover:before {color: black;}#sk-container-id-1 div.sk-estimator:hover label.sk-toggleable__label-arrow:before {color: black;}#sk-container-id-1 div.sk-toggleable__content {max-height: 0;max-width: 0;overflow: hidden;text-align: left;background-color: #f0f8ff;}#sk-container-id-1 div.sk-toggleable__content pre {margin: 0.2em;color: black;border-radius: 0.25em;background-color: #f0f8ff;}#sk-container-id-1 input.sk-toggleable__control:checked~div.sk-toggleable__content {max-height: 200px;max-width: 100%;overflow: auto;}#sk-container-id-1 input.sk-toggleable__control:checked~label.sk-toggleable__label-arrow:before {content: \"▾\";}#sk-container-id-1 div.sk-estimator input.sk-toggleable__control:checked~label.sk-toggleable__label {background-color: #d4ebff;}#sk-container-id-1 div.sk-label input.sk-toggleable__control:checked~label.sk-toggleable__label {background-color: #d4ebff;}#sk-container-id-1 input.sk-hidden--visually {border: 0;clip: rect(1px 1px 1px 1px);clip: rect(1px, 1px, 1px, 1px);height: 1px;margin: -1px;overflow: hidden;padding: 0;position: absolute;width: 1px;}#sk-container-id-1 div.sk-estimator {font-family: monospace;background-color: #f0f8ff;border: 1px dotted black;border-radius: 0.25em;box-sizing: border-box;margin-bottom: 0.5em;}#sk-container-id-1 div.sk-estimator:hover {background-color: #d4ebff;}#sk-container-id-1 div.sk-parallel-item::after {content: \"\";width: 100%;border-bottom: 1px solid gray;flex-grow: 1;}#sk-container-id-1 div.sk-label:hover label.sk-toggleable__label {background-color: #d4ebff;}#sk-container-id-1 div.sk-serial::before {content: \"\";position: absolute;border-left: 1px solid gray;box-sizing: border-box;top: 0;bottom: 0;left: 50%;z-index: 0;}#sk-container-id-1 div.sk-serial {display: flex;flex-direction: column;align-items: center;background-color: white;padding-right: 0.2em;padding-left: 0.2em;position: relative;}#sk-container-id-1 div.sk-item {position: relative;z-index: 1;}#sk-container-id-1 div.sk-parallel {display: flex;align-items: stretch;justify-content: center;background-color: white;position: relative;}#sk-container-id-1 div.sk-item::before, #sk-container-id-1 div.sk-parallel-item::before {content: \"\";position: absolute;border-left: 1px solid gray;box-sizing: border-box;top: 0;bottom: 0;left: 50%;z-index: -1;}#sk-container-id-1 div.sk-parallel-item {display: flex;flex-direction: column;z-index: 1;position: relative;background-color: white;}#sk-container-id-1 div.sk-parallel-item:first-child::after {align-self: flex-end;width: 50%;}#sk-container-id-1 div.sk-parallel-item:last-child::after {align-self: flex-start;width: 50%;}#sk-container-id-1 div.sk-parallel-item:only-child::after {width: 0;}#sk-container-id-1 div.sk-dashed-wrapped {border: 1px dashed gray;margin: 0 0.4em 0.5em 0.4em;box-sizing: border-box;padding-bottom: 0.4em;background-color: white;}#sk-container-id-1 div.sk-label label {font-family: monospace;font-weight: bold;display: inline-block;line-height: 1.2em;}#sk-container-id-1 div.sk-label-container {text-align: center;}#sk-container-id-1 div.sk-container {/* jupyter's `normalize.less` sets `[hidden] { display: none; }` but bootstrap.min.css set `[hidden] { display: none !important; }` so we also need the `!important` here to be able to override the default hidden behavior on the sphinx rendered scikit-learn.org. See: https://github.com/scikit-learn/scikit-learn/issues/21755 */display: inline-block !important;position: relative;}#sk-container-id-1 div.sk-text-repr-fallback {display: none;}</style><div id=\"sk-container-id-1\" class=\"sk-top-container\"><div class=\"sk-text-repr-fallback\"><pre>LogisticRegression()</pre><b>In a Jupyter environment, please rerun this cell to show the HTML representation or trust the notebook. <br />On GitHub, the HTML representation is unable to render, please try loading this page with nbviewer.org.</b></div><div class=\"sk-container\" hidden><div class=\"sk-item\"><div class=\"sk-estimator sk-toggleable\"><input class=\"sk-toggleable__control sk-hidden--visually\" id=\"sk-estimator-id-1\" type=\"checkbox\" checked><label for=\"sk-estimator-id-1\" class=\"sk-toggleable__label sk-toggleable__label-arrow\">LogisticRegression</label><div class=\"sk-toggleable__content\"><pre>LogisticRegression()</pre></div></div></div></div></div>"
            ]
          },
          "metadata": {},
          "execution_count": 9
        }
      ]
    },
    {
      "cell_type": "markdown",
      "source": [
        "### Calculando acurácia de treino e teste"
      ],
      "metadata": {
        "id": "kFzwCP1vAa3b"
      }
    },
    {
      "cell_type": "code",
      "source": [
        "print(f\"Acurácia de treinamento: {modelo.score(X_treino_norm, y_treino)}\")\n",
        "print(f\"Acurácia de teste: {modelo.score(X_teste_norm, y_teste)}\")"
      ],
      "metadata": {
        "id": "E0QycHAJAWG7",
        "colab": {
          "base_uri": "https://localhost:8080/"
        },
        "outputId": "a5214917-0271-48c7-b57f-4b17d2d10dcb"
      },
      "execution_count": 10,
      "outputs": [
        {
          "output_type": "stream",
          "name": "stdout",
          "text": [
            "Acurácia de treinamento: 0.8991304347826087\n",
            "Acurácia de teste: 0.8870547350130321\n"
          ]
        }
      ]
    },
    {
      "cell_type": "markdown",
      "source": [
        "### Obtendo a classe de uma dada amostra\n",
        "\n",
        "Vamos escolher uma amostra aleatória e ver como o nosso classificador a classificou.\n",
        "\n",
        "No exemplo do código abaixo, escolhemos `k=10`, ou seja, a décima amostra do conjunto teste. Vericamos qual o rótulo desta amostra."
      ],
      "metadata": {
        "id": "UMgB_qKpAsH2"
      }
    },
    {
      "cell_type": "code",
      "source": [
        "k = 1\n",
        "amostra = X_teste.iloc[k]\n",
        "print(\"Amostra:\\n\", amostra)\n",
        "\n",
        "print(\"\\n---- Normalizando a amostra: ---\")\n",
        "amostra_norm = normalizador.transform([amostra])[0]\n",
        "print(amostra_norm)\n",
        "print(\"Rótulo:\", nome_labels[y_teste.iloc[k]])"
      ],
      "metadata": {
        "id": "dAgwpbvDA7wr",
        "colab": {
          "base_uri": "https://localhost:8080/"
        },
        "outputId": "af7f85de-3890-43e4-d6dc-08275fb55fde"
      },
      "execution_count": 11,
      "outputs": [
        {
          "output_type": "stream",
          "name": "stdout",
          "text": [
            "Amostra:\n",
            " 0       0.000\n",
            "1       0.000\n",
            "2       0.900\n",
            "3       0.000\n",
            "4       0.450\n",
            "5       0.000\n",
            "6       0.000\n",
            "7       0.000\n",
            "8       0.000\n",
            "9       0.000\n",
            "10      0.000\n",
            "11      0.900\n",
            "12      0.450\n",
            "13      0.000\n",
            "14      0.000\n",
            "15      0.450\n",
            "16      0.900\n",
            "17      0.000\n",
            "18      4.520\n",
            "19      0.000\n",
            "20      0.900\n",
            "21      0.000\n",
            "22      0.450\n",
            "23      0.000\n",
            "24      0.000\n",
            "25      0.000\n",
            "26      0.000\n",
            "27      0.000\n",
            "28      0.000\n",
            "29      0.000\n",
            "30      0.000\n",
            "31      0.000\n",
            "32      0.000\n",
            "33      0.000\n",
            "34      0.000\n",
            "35      0.000\n",
            "36      0.000\n",
            "37      0.000\n",
            "38      0.000\n",
            "39      0.000\n",
            "40      0.000\n",
            "41      0.000\n",
            "42      0.000\n",
            "43      0.000\n",
            "44      1.350\n",
            "45      0.000\n",
            "46      0.000\n",
            "47      0.000\n",
            "48      0.000\n",
            "49      0.000\n",
            "50      0.000\n",
            "51      2.115\n",
            "52      0.070\n",
            "53      0.000\n",
            "54      2.651\n",
            "55     14.000\n",
            "56    114.000\n",
            "Name: 615, dtype: float64\n",
            "\n",
            "---- Normalizando a amostra: ---\n",
            "[0.         0.         0.17647059 0.         0.04950495 0.\n",
            " 0.         0.         0.         0.         0.         0.09307135\n",
            " 0.08108108 0.         0.         0.0225     0.17578125 0.\n",
            " 0.24106667 0.         0.0810081  0.         0.09453782 0.\n",
            " 0.         0.         0.         0.         0.         0.\n",
            " 0.         0.         0.         0.         0.         0.\n",
            " 0.         0.         0.         0.         0.         0.\n",
            " 0.         0.         0.06302521 0.         0.         0.\n",
            " 0.         0.         0.         0.11055355 0.01320755 0.\n",
            " 0.00149887 0.00130156 0.01123149]\n",
            "Rótulo: Spam\n"
          ]
        }
      ]
    },
    {
      "cell_type": "markdown",
      "source": [
        "Agora vamos inserir  a mostra normalizada no nosso preditor:"
      ],
      "metadata": {
        "id": "baYneasdOjR8"
      }
    },
    {
      "cell_type": "code",
      "source": [
        "lab_pred = modelo.predict([amostra_norm])\n",
        "prob_pred = modelo.predict_proba([amostra_norm])\n",
        "print(\"Rótulo Real:\", nome_labels[y_teste.iloc[k]])\n",
        "print(\"Rótulo predito:\", nome_labels[lab_pred])\n",
        "print(\"Probabilidade:\", prob_pred[0][1], \"%\")"
      ],
      "metadata": {
        "colab": {
          "base_uri": "https://localhost:8080/"
        },
        "id": "dj27NvrIOpiQ",
        "outputId": "40eea7b3-ed52-44da-bbef-6c600e7bea53"
      },
      "execution_count": 12,
      "outputs": [
        {
          "output_type": "stream",
          "name": "stdout",
          "text": [
            "Rótulo Real: Spam\n",
            "Rótulo predito: ['Spam']\n",
            "Probabilidade: 0.7670406793425543 %\n"
          ]
        }
      ]
    },
    {
      "cell_type": "markdown",
      "source": [
        "# Obtendo a matriz de confusão"
      ],
      "metadata": {
        "id": "_ux0Dr7QO5t5"
      }
    },
    {
      "cell_type": "code",
      "source": [
        "from sklearn.metrics import confusion_matrix\n",
        "pred_teste = modelo.predict(X_teste_norm)\n",
        "cm = confusion_matrix(y_teste, pred_teste)\n",
        "cm"
      ],
      "metadata": {
        "id": "JibWSfDOO4tk",
        "colab": {
          "base_uri": "https://localhost:8080/"
        },
        "outputId": "2a97808b-2e54-4356-b668-cb09020f9b3e"
      },
      "execution_count": 13,
      "outputs": [
        {
          "output_type": "execute_result",
          "data": {
            "text/plain": [
              "array([[664,  41],\n",
              "       [ 89, 357]])"
            ]
          },
          "metadata": {},
          "execution_count": 13
        }
      ]
    },
    {
      "cell_type": "code",
      "source": [
        "from sklearn.metrics import ConfusionMatrixDisplay\n",
        "disp = ConfusionMatrixDisplay(confusion_matrix=cm, display_labels=nome_labels)\n",
        "disp.plot()"
      ],
      "metadata": {
        "id": "XO9ZxAdeSxTC",
        "colab": {
          "base_uri": "https://localhost:8080/",
          "height": 466
        },
        "outputId": "99c69e3f-8d70-4292-b34d-bc5bf6a047a2"
      },
      "execution_count": 14,
      "outputs": [
        {
          "output_type": "execute_result",
          "data": {
            "text/plain": [
              "<sklearn.metrics._plot.confusion_matrix.ConfusionMatrixDisplay at 0x7aecb3513790>"
            ]
          },
          "metadata": {},
          "execution_count": 14
        },
        {
          "output_type": "display_data",
          "data": {
            "text/plain": [
              "<Figure size 640x480 with 2 Axes>"
            ],
            "image/png": "[encoded data removed]"
          },
          "metadata": {}
        }
      ]
    },
    {
      "cell_type": "markdown",
      "source": [
        "# Obtendo Acurácia, Precision, Recall e F1-score"
      ],
      "metadata": {
        "id": "1cP2F70VTggi"
      }
    },
    {
      "cell_type": "code",
      "source": [
        "tn, fp, fn, tp = cm.ravel()\n",
        "print(f\"TP: {tp}\\nTN: {tn}\\nFP: {fp}\\nFN: {fn}\")"
      ],
      "metadata": {
        "id": "pbRUuWskTmjR",
        "colab": {
          "base_uri": "https://localhost:8080/"
        },
        "outputId": "efe18305-096a-4308-90d1-1f80ed4a9f6a"
      },
      "execution_count": 15,
      "outputs": [
        {
          "output_type": "stream",
          "name": "stdout",
          "text": [
            "TP: 357\n",
            "TN: 664\n",
            "FP: 41\n",
            "FN: 89\n"
          ]
        }
      ]
    },
    {
      "cell_type": "code",
      "source": [
        "acc = (tp + tn) / (tp + tn + fp + fn)\n",
        "print(f\"Acuracia: {100 * acc:.2f}%\")"
      ],
      "metadata": {
        "id": "mSXDsz-rUzy-",
        "colab": {
          "base_uri": "https://localhost:8080/"
        },
        "outputId": "a2bf044f-4e97-4f5f-dbbe-6dbba0929d74"
      },
      "execution_count": 16,
      "outputs": [
        {
          "output_type": "stream",
          "name": "stdout",
          "text": [
            "Acuracia: 88.71%\n"
          ]
        }
      ]
    },
    {
      "cell_type": "code",
      "source": [
        "precision = tp / (tp + fp)\n",
        "print(f\"Precision: {100 * precision:.2f}%\")"
      ],
      "metadata": {
        "id": "STNLLDJTVOTS",
        "colab": {
          "base_uri": "https://localhost:8080/"
        },
        "outputId": "e78f5ef5-a1d4-4bca-f05d-640d1254dd29"
      },
      "execution_count": 17,
      "outputs": [
        {
          "output_type": "stream",
          "name": "stdout",
          "text": [
            "Precision: 89.70%\n"
          ]
        }
      ]
    },
    {
      "cell_type": "code",
      "source": [
        "recall = tp / (tp + fn)\n",
        "print(f\"Recall: {100 * recall:.2f}%\")"
      ],
      "metadata": {
        "id": "5f_6IksmVZlR",
        "colab": {
          "base_uri": "https://localhost:8080/"
        },
        "outputId": "5361609e-d186-4b0d-b027-9b6d725630ed"
      },
      "execution_count": 18,
      "outputs": [
        {
          "output_type": "stream",
          "name": "stdout",
          "text": [
            "Recall: 80.04%\n"
          ]
        }
      ]
    },
    {
      "cell_type": "code",
      "source": [
        "f1 = 2 * (precision * recall)/(precision + recall)\n",
        "print(f\"F1-score: {100 * f1:.2f}%\")"
      ],
      "metadata": {
        "id": "6Ow44UuGVhsW",
        "colab": {
          "base_uri": "https://localhost:8080/"
        },
        "outputId": "b5d6c405-955e-4be6-d2dc-9b4e2bbfb32e"
      },
      "execution_count": 19,
      "outputs": [
        {
          "output_type": "stream",
          "name": "stdout",
          "text": [
            "F1-score: 84.60%\n"
          ]
        }
      ]
    },
    {
      "cell_type": "markdown",
      "source": [
        "### ... ou simplesmente, podemos chamar as funções já prontas"
      ],
      "metadata": {
        "id": "c0bTxKGJWxhZ"
      }
    },
    {
      "cell_type": "code",
      "source": [
        "from sklearn.metrics import precision_score, recall_score, f1_score, accuracy_score\n",
        "print(f\"Acuracia: {100 * accuracy_score(y_teste, pred_teste):.2f}%\")\n",
        "print(f\"Precision: {100 * precision_score(y_teste, pred_teste):.2f}%\")\n",
        "print(f\"Recall: {100 * recall_score(y_teste, pred_teste):.2f}%\")\n",
        "print(f\"F1-score: {100 * f1_score(y_teste, pred_teste):.2f}%\")"
      ],
      "metadata": {
        "id": "TthGVN0dVvNY",
        "colab": {
          "base_uri": "https://localhost:8080/"
        },
        "outputId": "d0261db8-87b0-4d2d-af57-121deef4df33"
      },
      "execution_count": 20,
      "outputs": [
        {
          "output_type": "stream",
          "name": "stdout",
          "text": [
            "Acuracia: 88.71%\n",
            "Precision: 89.70%\n",
            "Recall: 80.04%\n",
            "F1-score: 84.60%\n"
          ]
        }
      ]
    },
    {
      "cell_type": "markdown",
      "source": [
        " # Calculando a Curva ROC e obtendo a AUC"
      ],
      "metadata": {
        "id": "tXbfUH4WDkVA"
      }
    },
    {
      "cell_type": "code",
      "source": [
        "#@title Gerando os thresholds\n",
        "from sklearn.metrics import roc_curve, auc\n",
        "\n",
        "lab_preds = modelo.predict(X_teste_norm)  #Alterando os thresholds\n",
        "prob_preds = modelo.predict_proba(X_teste_norm)\n",
        "\n",
        "fpr, tpr, thresholds = roc_curve(y_teste, prob_preds[:,1])\n",
        "roc_auc = auc(fpr, tpr)\n",
        "for k in range(len(fpr)):\n",
        "  print(f\"Threshold = {thresholds[k]} | FPR = {fpr[k]:.2f} | TPR = {tpr[k]:.2f}\")\n",
        "\n",
        "print(f\"\\nAUC = {roc_auc}\")"
      ],
      "metadata": {
        "colab": {
          "base_uri": "https://localhost:8080/"
        },
        "id": "URRWkrO7ETS4",
        "outputId": "6c3759e3-f87a-4064-9603-c697ea21e14f"
      },
      "execution_count": 21,
      "outputs": [
        {
          "output_type": "stream",
          "name": "stdout",
          "text": [
            "Threshold = inf | FPR = 0.00 | TPR = 0.00\n",
            "Threshold = 0.9997884399231334 | FPR = 0.00 | TPR = 0.00\n",
            "Threshold = 0.9995203273576673 | FPR = 0.00 | TPR = 0.01\n",
            "Threshold = 0.9987809155273706 | FPR = 0.00 | TPR = 0.01\n",
            "Threshold = 0.9403224833629774 | FPR = 0.00 | TPR = 0.17\n",
            "Threshold = 0.9402388673468224 | FPR = 0.00 | TPR = 0.18\n",
            "Threshold = 0.9381126467295167 | FPR = 0.00 | TPR = 0.18\n",
            "Threshold = 0.9320133825545454 | FPR = 0.00 | TPR = 0.18\n",
            "Threshold = 0.9218626966014282 | FPR = 0.00 | TPR = 0.22\n",
            "Threshold = 0.9211791136811305 | FPR = 0.00 | TPR = 0.22\n",
            "Threshold = 0.9181225967027146 | FPR = 0.00 | TPR = 0.22\n",
            "Threshold = 0.9140375340292214 | FPR = 0.00 | TPR = 0.22\n",
            "Threshold = 0.8846418074320881 | FPR = 0.00 | TPR = 0.28\n",
            "Threshold = 0.8820798197680261 | FPR = 0.01 | TPR = 0.28\n",
            "Threshold = 0.8769203315297769 | FPR = 0.01 | TPR = 0.29\n",
            "Threshold = 0.8765357830664429 | FPR = 0.01 | TPR = 0.29\n",
            "Threshold = 0.839949614468695 | FPR = 0.01 | TPR = 0.36\n",
            "Threshold = 0.8384356850161087 | FPR = 0.01 | TPR = 0.36\n",
            "Threshold = 0.8370831339257513 | FPR = 0.01 | TPR = 0.36\n",
            "Threshold = 0.8358983939927721 | FPR = 0.02 | TPR = 0.36\n",
            "Threshold = 0.8356343327738887 | FPR = 0.02 | TPR = 0.37\n",
            "Threshold = 0.830583852794321 | FPR = 0.02 | TPR = 0.37\n",
            "Threshold = 0.7991279662664682 | FPR = 0.02 | TPR = 0.40\n",
            "Threshold = 0.7986331701445276 | FPR = 0.02 | TPR = 0.40\n",
            "Threshold = 0.766787632943329 | FPR = 0.02 | TPR = 0.46\n",
            "Threshold = 0.7652602227930712 | FPR = 0.02 | TPR = 0.46\n",
            "Threshold = 0.7547527975787004 | FPR = 0.02 | TPR = 0.47\n",
            "Threshold = 0.7507432021017219 | FPR = 0.02 | TPR = 0.47\n",
            "Threshold = 0.7465480469471398 | FPR = 0.02 | TPR = 0.48\n",
            "Threshold = 0.7459694783115554 | FPR = 0.02 | TPR = 0.48\n",
            "Threshold = 0.7436443624658574 | FPR = 0.02 | TPR = 0.49\n",
            "Threshold = 0.7426879689241545 | FPR = 0.02 | TPR = 0.49\n",
            "Threshold = 0.7302632962218801 | FPR = 0.02 | TPR = 0.50\n",
            "Threshold = 0.7276792519517993 | FPR = 0.03 | TPR = 0.50\n",
            "Threshold = 0.7261139683290619 | FPR = 0.03 | TPR = 0.51\n",
            "Threshold = 0.7231673276105884 | FPR = 0.03 | TPR = 0.51\n",
            "Threshold = 0.7204083903697139 | FPR = 0.03 | TPR = 0.51\n",
            "Threshold = 0.7185554839864682 | FPR = 0.03 | TPR = 0.51\n",
            "Threshold = 0.7181291202371565 | FPR = 0.03 | TPR = 0.52\n",
            "Threshold = 0.713140037079294 | FPR = 0.03 | TPR = 0.52\n",
            "Threshold = 0.7117860297878098 | FPR = 0.03 | TPR = 0.52\n",
            "Threshold = 0.7098143294393524 | FPR = 0.03 | TPR = 0.52\n",
            "Threshold = 0.7087977429832761 | FPR = 0.03 | TPR = 0.53\n",
            "Threshold = 0.7082127275209297 | FPR = 0.03 | TPR = 0.53\n",
            "Threshold = 0.6990200793992686 | FPR = 0.03 | TPR = 0.54\n",
            "Threshold = 0.69180520966474 | FPR = 0.04 | TPR = 0.54\n",
            "Threshold = 0.6679337457129201 | FPR = 0.04 | TPR = 0.57\n",
            "Threshold = 0.6663614723787988 | FPR = 0.04 | TPR = 0.57\n",
            "Threshold = 0.6505713558408542 | FPR = 0.04 | TPR = 0.60\n",
            "Threshold = 0.6502248623137713 | FPR = 0.04 | TPR = 0.60\n",
            "Threshold = 0.6311195762646093 | FPR = 0.04 | TPR = 0.61\n",
            "Threshold = 0.6310862801974889 | FPR = 0.04 | TPR = 0.61\n",
            "Threshold = 0.6254902216504791 | FPR = 0.04 | TPR = 0.62\n",
            "Threshold = 0.6254441203024816 | FPR = 0.04 | TPR = 0.62\n",
            "Threshold = 0.596011870092017 | FPR = 0.04 | TPR = 0.66\n",
            "Threshold = 0.5954073030135745 | FPR = 0.04 | TPR = 0.67\n",
            "Threshold = 0.5826347529906803 | FPR = 0.04 | TPR = 0.68\n",
            "Threshold = 0.5815918056080794 | FPR = 0.05 | TPR = 0.68\n",
            "Threshold = 0.5743346884568563 | FPR = 0.05 | TPR = 0.70\n",
            "Threshold = 0.5714889682039394 | FPR = 0.05 | TPR = 0.70\n",
            "Threshold = 0.5679114135644616 | FPR = 0.05 | TPR = 0.71\n",
            "Threshold = 0.5653765675551035 | FPR = 0.05 | TPR = 0.71\n",
            "Threshold = 0.5480026167508546 | FPR = 0.05 | TPR = 0.73\n",
            "Threshold = 0.547249651611471 | FPR = 0.05 | TPR = 0.73\n",
            "Threshold = 0.5399608475778593 | FPR = 0.05 | TPR = 0.74\n",
            "Threshold = 0.5389642939041138 | FPR = 0.05 | TPR = 0.74\n",
            "Threshold = 0.5355617796794669 | FPR = 0.05 | TPR = 0.74\n",
            "Threshold = 0.5350911749387273 | FPR = 0.05 | TPR = 0.74\n",
            "Threshold = 0.5216292198382754 | FPR = 0.05 | TPR = 0.77\n",
            "Threshold = 0.5211006890860628 | FPR = 0.05 | TPR = 0.77\n",
            "Threshold = 0.5153467356915057 | FPR = 0.05 | TPR = 0.78\n",
            "Threshold = 0.5137779318275318 | FPR = 0.06 | TPR = 0.78\n",
            "Threshold = 0.5099811978828291 | FPR = 0.06 | TPR = 0.79\n",
            "Threshold = 0.5069136824212531 | FPR = 0.06 | TPR = 0.79\n",
            "Threshold = 0.5051535337709029 | FPR = 0.06 | TPR = 0.79\n",
            "Threshold = 0.5024443488459438 | FPR = 0.06 | TPR = 0.79\n",
            "Threshold = 0.49262853211461616 | FPR = 0.06 | TPR = 0.81\n",
            "Threshold = 0.48875033724184924 | FPR = 0.06 | TPR = 0.81\n",
            "Threshold = 0.4699939243677191 | FPR = 0.06 | TPR = 0.83\n",
            "Threshold = 0.4690992789358293 | FPR = 0.06 | TPR = 0.83\n",
            "Threshold = 0.4619680384374484 | FPR = 0.06 | TPR = 0.84\n",
            "Threshold = 0.46155189904394367 | FPR = 0.06 | TPR = 0.84\n",
            "Threshold = 0.45864588729037553 | FPR = 0.06 | TPR = 0.85\n",
            "Threshold = 0.4548354113758627 | FPR = 0.06 | TPR = 0.85\n",
            "Threshold = 0.44826511819910786 | FPR = 0.06 | TPR = 0.85\n",
            "Threshold = 0.44429306817604236 | FPR = 0.07 | TPR = 0.85\n",
            "Threshold = 0.43381301959186896 | FPR = 0.07 | TPR = 0.86\n",
            "Threshold = 0.429106101879429 | FPR = 0.07 | TPR = 0.86\n",
            "Threshold = 0.4270715897079033 | FPR = 0.07 | TPR = 0.87\n",
            "Threshold = 0.42576193029897713 | FPR = 0.07 | TPR = 0.87\n",
            "Threshold = 0.42263107222774826 | FPR = 0.07 | TPR = 0.87\n",
            "Threshold = 0.4217870963986686 | FPR = 0.07 | TPR = 0.87\n",
            "Threshold = 0.41984418715307376 | FPR = 0.07 | TPR = 0.87\n",
            "Threshold = 0.4187346111419169 | FPR = 0.07 | TPR = 0.87\n",
            "Threshold = 0.41721028332265336 | FPR = 0.07 | TPR = 0.87\n",
            "Threshold = 0.4124133572534859 | FPR = 0.08 | TPR = 0.87\n",
            "Threshold = 0.40938685692808047 | FPR = 0.08 | TPR = 0.88\n",
            "Threshold = 0.4079278321123595 | FPR = 0.08 | TPR = 0.88\n",
            "Threshold = 0.40161533929868337 | FPR = 0.08 | TPR = 0.88\n",
            "Threshold = 0.40062421826220496 | FPR = 0.08 | TPR = 0.88\n",
            "Threshold = 0.4000269558161571 | FPR = 0.08 | TPR = 0.89\n",
            "Threshold = 0.39923959056488034 | FPR = 0.08 | TPR = 0.89\n",
            "Threshold = 0.3986592291850288 | FPR = 0.08 | TPR = 0.89\n",
            "Threshold = 0.3967403661050809 | FPR = 0.09 | TPR = 0.89\n",
            "Threshold = 0.39528407082386513 | FPR = 0.09 | TPR = 0.89\n",
            "Threshold = 0.393397987914554 | FPR = 0.09 | TPR = 0.89\n",
            "Threshold = 0.392195333357035 | FPR = 0.09 | TPR = 0.89\n",
            "Threshold = 0.38330880866824885 | FPR = 0.10 | TPR = 0.89\n",
            "Threshold = 0.3814615897716474 | FPR = 0.10 | TPR = 0.90\n",
            "Threshold = 0.37893287675584164 | FPR = 0.10 | TPR = 0.90\n",
            "Threshold = 0.37867493875572694 | FPR = 0.10 | TPR = 0.90\n",
            "Threshold = 0.3759523460297474 | FPR = 0.10 | TPR = 0.90\n",
            "Threshold = 0.3741405301143863 | FPR = 0.10 | TPR = 0.90\n",
            "Threshold = 0.36595826101082524 | FPR = 0.11 | TPR = 0.90\n",
            "Threshold = 0.36329773286186545 | FPR = 0.11 | TPR = 0.91\n",
            "Threshold = 0.3584243169083092 | FPR = 0.11 | TPR = 0.91\n",
            "Threshold = 0.35792893238355933 | FPR = 0.11 | TPR = 0.91\n",
            "Threshold = 0.353767715859294 | FPR = 0.12 | TPR = 0.91\n",
            "Threshold = 0.35090023339551885 | FPR = 0.12 | TPR = 0.91\n",
            "Threshold = 0.3489671448766139 | FPR = 0.12 | TPR = 0.91\n",
            "Threshold = 0.3477790989357962 | FPR = 0.12 | TPR = 0.92\n",
            "Threshold = 0.3462508758580546 | FPR = 0.13 | TPR = 0.92\n",
            "Threshold = 0.3445361233914656 | FPR = 0.13 | TPR = 0.92\n",
            "Threshold = 0.3290233068730529 | FPR = 0.15 | TPR = 0.92\n",
            "Threshold = 0.3232092522143671 | FPR = 0.15 | TPR = 0.92\n",
            "Threshold = 0.3210983452626495 | FPR = 0.15 | TPR = 0.92\n",
            "Threshold = 0.32059508598441866 | FPR = 0.15 | TPR = 0.92\n",
            "Threshold = 0.3159941803352752 | FPR = 0.15 | TPR = 0.92\n",
            "Threshold = 0.3141675508854049 | FPR = 0.15 | TPR = 0.93\n",
            "Threshold = 0.310617596940172 | FPR = 0.16 | TPR = 0.93\n",
            "Threshold = 0.30978673728614686 | FPR = 0.16 | TPR = 0.93\n",
            "Threshold = 0.30095538464599336 | FPR = 0.17 | TPR = 0.93\n",
            "Threshold = 0.2974757942040193 | FPR = 0.17 | TPR = 0.93\n",
            "Threshold = 0.2866309431001642 | FPR = 0.19 | TPR = 0.93\n",
            "Threshold = 0.28627990700342393 | FPR = 0.19 | TPR = 0.93\n",
            "Threshold = 0.27341469627043663 | FPR = 0.23 | TPR = 0.93\n",
            "Threshold = 0.27056297185642997 | FPR = 0.23 | TPR = 0.94\n",
            "Threshold = 0.26900986637373436 | FPR = 0.23 | TPR = 0.94\n",
            "Threshold = 0.2689078552290823 | FPR = 0.23 | TPR = 0.94\n",
            "Threshold = 0.25696232726316104 | FPR = 0.26 | TPR = 0.94\n",
            "Threshold = 0.2563328721331162 | FPR = 0.26 | TPR = 0.94\n",
            "Threshold = 0.25363823328828944 | FPR = 0.27 | TPR = 0.94\n",
            "Threshold = 0.25301157416922776 | FPR = 0.27 | TPR = 0.95\n",
            "Threshold = 0.2525373615966042 | FPR = 0.27 | TPR = 0.95\n",
            "Threshold = 0.25236189460817177 | FPR = 0.27 | TPR = 0.95\n",
            "Threshold = 0.24561280762802737 | FPR = 0.29 | TPR = 0.95\n",
            "Threshold = 0.24542483856413888 | FPR = 0.29 | TPR = 0.95\n",
            "Threshold = 0.2437490141004639 | FPR = 0.29 | TPR = 0.95\n",
            "Threshold = 0.24301585295129485 | FPR = 0.29 | TPR = 0.96\n",
            "Threshold = 0.2411911361798518 | FPR = 0.30 | TPR = 0.96\n",
            "Threshold = 0.24043882180484508 | FPR = 0.30 | TPR = 0.96\n",
            "Threshold = 0.23198867620061714 | FPR = 0.31 | TPR = 0.96\n",
            "Threshold = 0.231744219336591 | FPR = 0.31 | TPR = 0.96\n",
            "Threshold = 0.22721924703400126 | FPR = 0.33 | TPR = 0.96\n",
            "Threshold = 0.2262764415420499 | FPR = 0.33 | TPR = 0.96\n",
            "Threshold = 0.22601720508161866 | FPR = 0.33 | TPR = 0.96\n",
            "Threshold = 0.22600251619144437 | FPR = 0.33 | TPR = 0.97\n",
            "Threshold = 0.22329987041205582 | FPR = 0.33 | TPR = 0.97\n",
            "Threshold = 0.2225803148849172 | FPR = 0.33 | TPR = 0.97\n",
            "Threshold = 0.22183830871247984 | FPR = 0.34 | TPR = 0.97\n",
            "Threshold = 0.2215368780268689 | FPR = 0.34 | TPR = 0.97\n",
            "Threshold = 0.21852704799090555 | FPR = 0.35 | TPR = 0.97\n",
            "Threshold = 0.21698027219246882 | FPR = 0.35 | TPR = 0.97\n",
            "Threshold = 0.21179862609103683 | FPR = 0.36 | TPR = 0.97\n",
            "Threshold = 0.211438241805694 | FPR = 0.36 | TPR = 0.98\n",
            "Threshold = 0.189964258720993 | FPR = 0.42 | TPR = 0.98\n",
            "Threshold = 0.18996417305337993 | FPR = 0.42 | TPR = 0.98\n",
            "Threshold = 0.1892253139391412 | FPR = 0.43 | TPR = 0.98\n",
            "Threshold = 0.1891226887546468 | FPR = 0.44 | TPR = 0.98\n",
            "Threshold = 0.18892409194801166 | FPR = 0.44 | TPR = 0.98\n",
            "Threshold = 0.18885801817640194 | FPR = 0.45 | TPR = 0.98\n",
            "Threshold = 0.1887919621343518 | FPR = 0.46 | TPR = 0.98\n",
            "Threshold = 0.18870270719489873 | FPR = 0.46 | TPR = 0.98\n",
            "Threshold = 0.18865990323494808 | FPR = 0.46 | TPR = 0.98\n",
            "Threshold = 0.1826035957668688 | FPR = 0.48 | TPR = 0.98\n",
            "Threshold = 0.1824783748686314 | FPR = 0.48 | TPR = 0.98\n",
            "Threshold = 0.1818345290305761 | FPR = 0.48 | TPR = 0.98\n",
            "Threshold = 0.1810509293736092 | FPR = 0.48 | TPR = 0.98\n",
            "Threshold = 0.17978633912330236 | FPR = 0.49 | TPR = 0.98\n",
            "Threshold = 0.17934919566283974 | FPR = 0.49 | TPR = 0.99\n",
            "Threshold = 0.1738412693148756 | FPR = 0.50 | TPR = 0.99\n",
            "Threshold = 0.1717064546697999 | FPR = 0.50 | TPR = 0.99\n",
            "Threshold = 0.16099826769900544 | FPR = 0.54 | TPR = 0.99\n",
            "Threshold = 0.16071402982062422 | FPR = 0.54 | TPR = 0.99\n",
            "Threshold = 0.15737470504590112 | FPR = 0.55 | TPR = 0.99\n",
            "Threshold = 0.1566205100921689 | FPR = 0.55 | TPR = 0.99\n",
            "Threshold = 0.15651070409256485 | FPR = 0.55 | TPR = 0.99\n",
            "Threshold = 0.15555365225472725 | FPR = 0.56 | TPR = 0.99\n",
            "Threshold = 0.15523829846021664 | FPR = 0.56 | TPR = 1.00\n",
            "Threshold = 0.1406240590060913 | FPR = 0.59 | TPR = 1.00\n",
            "Threshold = 0.14058536528569293 | FPR = 0.59 | TPR = 1.00\n",
            "Threshold = 0.09223743334566337 | FPR = 0.71 | TPR = 1.00\n",
            "Threshold = 0.09139753566169333 | FPR = 0.71 | TPR = 1.00\n",
            "Threshold = 0.06892786588700547 | FPR = 0.77 | TPR = 1.00\n",
            "Threshold = 0.06884661271861636 | FPR = 0.77 | TPR = 1.00\n",
            "Threshold = 0.02846551830466644 | FPR = 0.88 | TPR = 1.00\n",
            "Threshold = 0.02802852370428809 | FPR = 0.88 | TPR = 1.00\n",
            "Threshold = 0.025462603306429354 | FPR = 0.88 | TPR = 1.00\n",
            "Threshold = 0.024670634714168523 | FPR = 0.89 | TPR = 1.00\n",
            "Threshold = 0.015948033677017852 | FPR = 0.91 | TPR = 1.00\n",
            "Threshold = 0.015941267037531567 | FPR = 0.93 | TPR = 1.00\n",
            "Threshold = 0.01566273035627619 | FPR = 0.94 | TPR = 1.00\n",
            "Threshold = 0.0035777473247741447 | FPR = 0.97 | TPR = 1.00\n",
            "Threshold = 0.0030756215872151465 | FPR = 0.98 | TPR = 1.00\n",
            "Threshold = 3.368769199302082e-05 | FPR = 1.00 | TPR = 1.00\n",
            "Threshold = 2.196476504856795e-05 | FPR = 1.00 | TPR = 1.00\n",
            "\n",
            "AUC = 0.9456604013611933\n"
          ]
        }
      ]
    },
    {
      "cell_type": "code",
      "source": [
        "import matplotlib.pyplot as plt\n",
        "plt.plot(fpr, tpr, label=f\"ROC (AUC = {roc_auc:.4f}\")\n",
        "plt.plot([0, 1], [0, 1], color=\"k\", linestyle=\"--\")\n",
        "plt.xlim([-0.01, 1.0])\n",
        "plt.ylim([0.0, 1.05])\n",
        "plt.xlabel(\"Taxa de Falso Positivo\")\n",
        "plt.ylabel(\"Taxa de Verdadeiro Positivo\")\n",
        "plt.legend(loc=\"lower right\")\n",
        "plt.show()"
      ],
      "metadata": {
        "colab": {
          "base_uri": "https://localhost:8080/",
          "height": 449
        },
        "id": "HpXj6BePFUlS",
        "outputId": "52f759d7-26f2-4dc7-de12-93e10aaef789"
      },
      "execution_count": 22,
      "outputs": [
        {
          "output_type": "display_data",
          "data": {
            "text/plain": [
              "<Figure size 640x480 with 1 Axes>"
            ],
            "image/png": "[encoded data removed]"
          },
          "metadata": {}
        }
      ]
    },
    {
      "cell_type": "markdown",
      "source": [
        "#Exercícios  \n",
        "\n",
        "O objetivo deste exercício é ilustrar a natureza dos limites de decisão de diferentes classificadores. No entanto, lembre-se que o melhor classificador para este problema não necessariamente será o melhor para outros problemas.\n",
        "\n",
        "Agora que você já sabe avaliar as métricas de problemas de classificação. Altere o modelo de regressão logística  para avaliar outros modelos.\n",
        "\n",
        "\n",
        "Para isto,  no bloco \"***Selecionando o modelo de aprendizado supervisionado***\", substitua as linhas de código do modelo por cada um dos modelos abaixo. Para cada modelo, execute o Notebook novamente  e anote as métricas para discutir o desempenho dos modelos.\n",
        "\n",
        "Dica:  `CTRL +F10` executa tudo apenas do bloco alterado para baixo.\n",
        "\n",
        "Modelos:\n",
        "\n",
        "1.  Naive Bayes\n",
        "\n",
        "   ```\n",
        "    modelo =  GaussianNB()\n",
        "   ```\n",
        "\n",
        "1. KNN\n",
        "\n",
        "  ```\n",
        "  modelo  = KNeighborsClassifier(3)\n",
        "  ```\n",
        "\n",
        "1. Árvore de decisão\n",
        "\n",
        "  ```\n",
        "  modelo  =  DecisionTreeClassifier(max_depth=5, random_state=42)\n",
        "  ```\n",
        "\n",
        "\n",
        "1. Árvore aleatória\n",
        "\n",
        "  ```\n",
        "  modelo  = RandomForestClassifier(\n",
        "        max_depth=5, n_estimators=10, max_features=1, random_state=42\n",
        "    )\n",
        "  ```\n",
        "\n",
        "1. SVM\n",
        "\n",
        "  ```\n",
        "  modelo  =  SVC(kernel=\"linear\", C=0.025, random_state=42, probability = True)\n",
        "  ```\n",
        "\n",
        "\n",
        "1. Rede neural MLP\n",
        "\n",
        "  ```\n",
        "  modelo  =  MLPClassifier(alpha=1, max_iter=1000, random_state=42)\n",
        "  ```\n",
        "\n",
        "\n",
        "Observação importante: Este exercício apresenta vários modelos que ainda serão explicados em detalhes em outras disciplinas!!! O foco deve ser em comparar as métricas destes modelos.\n"
      ],
      "metadata": {
        "id": "Td487sOqmqoa"
      }
    },
    {
      "cell_type": "markdown",
      "source": [
        "##Entrega:\n",
        "\n",
        " Você deverá preencher a tabela abaixo, salvar o notebook e submetê-lo no Moodle:\n",
        "\n",
        "1.  Uma tabela descritiva contendo os modelos e as métricas, por exemplo:\n",
        "\n",
        "| Modelo               | Acurácia | Precision | Recall | F1-Score | AUC   |\n",
        "| -------------        |----------|-----------|--------|----------|-------|\n",
        "| Regressão Logística  | 97.20%   | 96.63%    |98.85%  | 97.73%   | 0.9961|\n",
        "| Naive Bayes   |  80.54%|\t67.45%|\t96.19%\t|79.30%\t|0.911161  |\n",
        "| KNN   |88.18%\t|86.90%\t|81.84%\t|84.30%\t|0.925346|\n",
        "|Árvore de decisão| 89.92%\t|91.25%\t|81.84%|\t86.29%|\t0.915229|\n",
        "|Random Forest|\t84.01%|\t90.43%\t|65.70%\t|76.10%\t|0.931311||\n",
        "|SVM\t|77.24%|\t89.32%|\t46.86%\t|61.47%|\t0.909288|\n",
        "|MLP|\t88.62%\t|89.08%\t|80.49%\t|84.57%\t|0.945409|\n",
        "\n",
        "\n"
      ],
      "metadata": {
        "id": "Sjkwgq2dE1XW"
      }
    },
    {
      "cell_type": "markdown",
      "source": [
        "2.  Uma discussão curta sobre os resultados para cada uma das métricas.  Quais foram os melhores algoritmos. Em quais métricas cada algoritmo se destacou.  Para o problema de detecção de Spam, qual seria o algoritmo recomendável, considerando esta base de dados."
      ],
      "metadata": {
        "id": "iHzX451PFIas"
      }
    },
    {
      "cell_type": "code",
      "source": [
        "modelo1 =  GaussianNB()\n",
        "modelo2  = KNeighborsClassifier(3)\n",
        "modelo3  =  DecisionTreeClassifier(max_depth=5, random_state=42)\n",
        "modelo4  = RandomForestClassifier(\n",
        "     max_depth=5, n_estimators=10, max_features=1, random_state=42\n",
        " )\n",
        "modelo5  =  SVC(kernel=\"linear\", C=0.025, random_state=42, probability = True)\n",
        "modelo6  =  MLPClassifier(alpha=1, max_iter=1000, random_state=42)"
      ],
      "metadata": {
        "id": "sRCW3OgLRMg8"
      },
      "execution_count": 23,
      "outputs": []
    },
    {
      "cell_type": "code",
      "source": [
        "modelo1.fit(X_treino_norm, y_treino)\n",
        "modelo2.fit(X_treino_norm, y_treino)\n",
        "modelo3.fit(X_treino_norm, y_treino)\n",
        "modelo4.fit(X_treino_norm, y_treino)\n",
        "modelo5.fit(X_treino_norm, y_treino)\n",
        "modelo6.fit(X_treino_norm, y_treino)"
      ],
      "metadata": {
        "colab": {
          "base_uri": "https://localhost:8080/",
          "height": 75
        },
        "id": "sQBY9GN_ReOb",
        "outputId": "27febce4-18c0-4f4a-b727-0f85056fa6e0"
      },
      "execution_count": 24,
      "outputs": [
        {
          "output_type": "execute_result",
          "data": {
            "text/plain": [
              "MLPClassifier(alpha=1, max_iter=1000, random_state=42)"
            ],
            "text/html": [
              "<style>#sk-container-id-2 {color: black;}#sk-container-id-2 pre{padding: 0;}#sk-container-id-2 div.sk-toggleable {background-color: white;}#sk-container-id-2 label.sk-toggleable__label {cursor: pointer;display: block;width: 100%;margin-bottom: 0;padding: 0.3em;box-sizing: border-box;text-align: center;}#sk-container-id-2 label.sk-toggleable__label-arrow:before {content: \"▸\";float: left;margin-right: 0.25em;color: #696969;}#sk-container-id-2 label.sk-toggleable__label-arrow:hover:before {color: black;}#sk-container-id-2 div.sk-estimator:hover label.sk-toggleable__label-arrow:before {color: black;}#sk-container-id-2 div.sk-toggleable__content {max-height: 0;max-width: 0;overflow: hidden;text-align: left;background-color: #f0f8ff;}#sk-container-id-2 div.sk-toggleable__content pre {margin: 0.2em;color: black;border-radius: 0.25em;background-color: #f0f8ff;}#sk-container-id-2 input.sk-toggleable__control:checked~div.sk-toggleable__content {max-height: 200px;max-width: 100%;overflow: auto;}#sk-container-id-2 input.sk-toggleable__control:checked~label.sk-toggleable__label-arrow:before {content: \"▾\";}#sk-container-id-2 div.sk-estimator input.sk-toggleable__control:checked~label.sk-toggleable__label {background-color: #d4ebff;}#sk-container-id-2 div.sk-label input.sk-toggleable__control:checked~label.sk-toggleable__label {background-color: #d4ebff;}#sk-container-id-2 input.sk-hidden--visually {border: 0;clip: rect(1px 1px 1px 1px);clip: rect(1px, 1px, 1px, 1px);height: 1px;margin: -1px;overflow: hidden;padding: 0;position: absolute;width: 1px;}#sk-container-id-2 div.sk-estimator {font-family: monospace;background-color: #f0f8ff;border: 1px dotted black;border-radius: 0.25em;box-sizing: border-box;margin-bottom: 0.5em;}#sk-container-id-2 div.sk-estimator:hover {background-color: #d4ebff;}#sk-container-id-2 div.sk-parallel-item::after {content: \"\";width: 100%;border-bottom: 1px solid gray;flex-grow: 1;}#sk-container-id-2 div.sk-label:hover label.sk-toggleable__label {background-color: #d4ebff;}#sk-container-id-2 div.sk-serial::before {content: \"\";position: absolute;border-left: 1px solid gray;box-sizing: border-box;top: 0;bottom: 0;left: 50%;z-index: 0;}#sk-container-id-2 div.sk-serial {display: flex;flex-direction: column;align-items: center;background-color: white;padding-right: 0.2em;padding-left: 0.2em;position: relative;}#sk-container-id-2 div.sk-item {position: relative;z-index: 1;}#sk-container-id-2 div.sk-parallel {display: flex;align-items: stretch;justify-content: center;background-color: white;position: relative;}#sk-container-id-2 div.sk-item::before, #sk-container-id-2 div.sk-parallel-item::before {content: \"\";position: absolute;border-left: 1px solid gray;box-sizing: border-box;top: 0;bottom: 0;left: 50%;z-index: -1;}#sk-container-id-2 div.sk-parallel-item {display: flex;flex-direction: column;z-index: 1;position: relative;background-color: white;}#sk-container-id-2 div.sk-parallel-item:first-child::after {align-self: flex-end;width: 50%;}#sk-container-id-2 div.sk-parallel-item:last-child::after {align-self: flex-start;width: 50%;}#sk-container-id-2 div.sk-parallel-item:only-child::after {width: 0;}#sk-container-id-2 div.sk-dashed-wrapped {border: 1px dashed gray;margin: 0 0.4em 0.5em 0.4em;box-sizing: border-box;padding-bottom: 0.4em;background-color: white;}#sk-container-id-2 div.sk-label label {font-family: monospace;font-weight: bold;display: inline-block;line-height: 1.2em;}#sk-container-id-2 div.sk-label-container {text-align: center;}#sk-container-id-2 div.sk-container {/* jupyter's `normalize.less` sets `[hidden] { display: none; }` but bootstrap.min.css set `[hidden] { display: none !important; }` so we also need the `!important` here to be able to override the default hidden behavior on the sphinx rendered scikit-learn.org. See: https://github.com/scikit-learn/scikit-learn/issues/21755 */display: inline-block !important;position: relative;}#sk-container-id-2 div.sk-text-repr-fallback {display: none;}</style><div id=\"sk-container-id-2\" class=\"sk-top-container\"><div class=\"sk-text-repr-fallback\"><pre>MLPClassifier(alpha=1, max_iter=1000, random_state=42)</pre><b>In a Jupyter environment, please rerun this cell to show the HTML representation or trust the notebook. <br />On GitHub, the HTML representation is unable to render, please try loading this page with nbviewer.org.</b></div><div class=\"sk-container\" hidden><div class=\"sk-item\"><div class=\"sk-estimator sk-toggleable\"><input class=\"sk-toggleable__control sk-hidden--visually\" id=\"sk-estimator-id-2\" type=\"checkbox\" checked><label for=\"sk-estimator-id-2\" class=\"sk-toggleable__label sk-toggleable__label-arrow\">MLPClassifier</label><div class=\"sk-toggleable__content\"><pre>MLPClassifier(alpha=1, max_iter=1000, random_state=42)</pre></div></div></div></div></div>"
            ]
          },
          "metadata": {},
          "execution_count": 24
        }
      ]
    },
    {
      "cell_type": "code",
      "source": [
        "import pandas as pd\n",
        "from sklearn.metrics import accuracy_score, precision_score, recall_score, f1_score, roc_auc_score\n",
        "\n",
        "# Criando o DataFrame para armazenar os resultados\n",
        "resultados = pd.DataFrame(columns=[\"Modelo\", \"Acurácia\", \"Precision\", \"Recall\", \"F1-Score\", \"AUC\"])\n",
        "\n",
        "# Lista de modelos e nomes\n",
        "modelos = [(\"Naive Bayes\", modelo1),\n",
        "           (\"KNN\", modelo2),\n",
        "           (\"Árvore de decisão\", modelo3),\n",
        "           (\"Random Forest\", modelo4),\n",
        "           (\"SVM\", modelo5),\n",
        "           (\"MLP\", modelo6)]\n",
        "\n",
        "# Iterando sobre cada modelo\n",
        "for nome, modelo in modelos:\n",
        "    # Fazendo previsões\n",
        "    pred_teste = modelo.predict(X_teste_norm)\n",
        "    prob_teste = modelo.predict_proba(X_teste_norm)[:, 1] if hasattr(modelo, \"predict_proba\") else None\n",
        "\n",
        "    # Calculando as métricas\n",
        "    acuracia = 100 * accuracy_score(y_teste, pred_teste)\n",
        "    precision = 100 * precision_score(y_teste, pred_teste)\n",
        "    recall = 100 * recall_score(y_teste, pred_teste)\n",
        "    f1 = 100 * f1_score(y_teste, pred_teste)\n",
        "    auc = 100 * roc_auc_score(y_teste, prob_teste) if prob_teste is not None else \"N/A\"\n",
        "\n",
        "    # Adicionando os resultados ao DataFrame usando loc\n",
        "    resultados.loc[len(resultados)] = [nome,\n",
        "                                       f\"{acuracia:.2f}%\",\n",
        "                                       f\"{precision:.2f}%\",\n",
        "                                       f\"{recall:.2f}%\",\n",
        "                                       f\"{f1:.2f}%\",\n",
        "                                       f\"{auc:.4f}\" if auc != \"N/A\" else auc]\n",
        "\n",
        "# Exibindo a tabela de resultados\n",
        "print(resultados)\n"
      ],
      "metadata": {
        "colab": {
          "base_uri": "https://localhost:8080/"
        },
        "id": "ynqe3SqGUI5C",
        "outputId": "1421eaa0-ed3b-4c4f-c546-94460c1c8eae"
      },
      "execution_count": 28,
      "outputs": [
        {
          "output_type": "stream",
          "name": "stdout",
          "text": [
            "              Modelo Acurácia Precision  Recall F1-Score      AUC\n",
            "0        Naive Bayes   80.54%    67.45%  96.19%   79.30%  91.1161\n",
            "1                KNN   88.18%    86.90%  81.84%   84.30%  92.5346\n",
            "2  Árvore de decisão   89.92%    91.25%  81.84%   86.29%  91.5229\n",
            "3      Random Forest   84.01%    90.43%  65.70%   76.10%  93.1311\n",
            "4                SVM   77.24%    89.32%  46.86%   61.47%  90.9288\n",
            "5                MLP   88.62%    89.08%  80.49%   84.57%  94.5409\n"
          ]
        }
      ]
    }
  ]
}