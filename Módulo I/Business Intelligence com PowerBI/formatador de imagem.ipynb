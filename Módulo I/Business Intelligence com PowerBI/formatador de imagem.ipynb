{
 "cells": [
  {
   "cell_type": "code",
   "execution_count": 3,
   "metadata": {},
   "outputs": [
    {
     "name": "stderr",
     "output_type": "stream",
     "text": [
      "c:\\Users\\f\\anaconda3\\Lib\\site-packages\\paramiko\\transport.py:219: CryptographyDeprecationWarning: Blowfish has been deprecated and will be removed in a future release\n",
      "  \"class\": algorithms.Blowfish,\n"
     ]
    }
   ],
   "source": [
    "import os\n",
    "from PIL import Image\n",
    "from rembg import remove\n",
    "import io\n",
    "\n",
    "def processar_imagem(caminho_entrada, caminho_saida):\n",
    "    # Abre a imagem e converte para RGBA\n",
    "    imagem = Image.open(caminho_entrada).convert(\"RGBA\")\n",
    "    \n",
    "    # Redimensiona mantendo a proporção para 1000x1000\n",
    "    largura_original, altura_original = imagem.size\n",
    "    if altura_original > largura_original:\n",
    "        nova_altura = 1000\n",
    "        nova_largura = int((1000 / altura_original) * largura_original)\n",
    "    else:\n",
    "        nova_largura = 1000\n",
    "        nova_altura = int((1000 / largura_original) * altura_original)\n",
    "    \n",
    "    imagem_redimensionada = imagem.resize((nova_largura, nova_altura), Image.LANCZOS)\n",
    "    \n",
    "    # Cria um fundo transparente de 1000x1000\n",
    "    fundo_transparente = Image.new(\"RGBA\", (1000, 1000), (0, 0, 0, 0))\n",
    "    posicao_x = (1000 - nova_largura) // 2\n",
    "    posicao_y = (1000 - nova_altura) // 2\n",
    "    fundo_transparente.paste(imagem_redimensionada, (posicao_x, posicao_y), imagem_redimensionada)\n",
    "    \n",
    "    # Aplica o rembg (remove o fundo) após o redimensionamento\n",
    "    with io.BytesIO() as buffer:\n",
    "        fundo_transparente.save(buffer, format=\"PNG\")\n",
    "        imagem_sem_fundo = remove(buffer.getvalue())  # Aplica o rembg\n",
    "    \n",
    "    # Salva a imagem final sem fundo\n",
    "    imagem_final = Image.open(io.BytesIO(imagem_sem_fundo)).convert(\"RGBA\")\n",
    "    imagem_final.save(caminho_saida, format=\"PNG\")\n",
    "    print(f\"Imagem processada: {os.path.basename(caminho_saida)}\")\n",
    "\n",
    "def processar_todas_imagens(pasta_entrada, pasta_saida):\n",
    "    # Verifica se a pasta de saída existe; se não, cria\n",
    "    if not os.path.exists(pasta_saida):\n",
    "        os.makedirs(pasta_saida)\n",
    "\n",
    "    # Itera sobre todos os arquivos da pasta de entrada\n",
    "    for arquivo in os.listdir(pasta_entrada):\n",
    "        caminho_entrada = os.path.join(pasta_entrada, arquivo)\n",
    "        \n",
    "        # Verifica se o arquivo é uma imagem válida\n",
    "        if os.path.isfile(caminho_entrada) and arquivo.lower().endswith(('.png', '.jpg', '.jpeg', '.bmp', '.webp')):\n",
    "            caminho_saida = os.path.join(pasta_saida, os.path.splitext(arquivo)[0] + '.png')\n",
    "            processar_imagem(caminho_entrada, caminho_saida)\n",
    "\n",
    "# Exemplo de uso\n",
    "# processar_todas_imagens(\"caminho/para/pasta_entrada\", \"caminho/para/pasta_saida\")\n"
   ]
  },
  {
   "cell_type": "code",
   "execution_count": 4,
   "metadata": {},
   "outputs": [
    {
     "name": "stderr",
     "output_type": "stream",
     "text": [
      "Downloading data from 'https://github.com/danielgatis/rembg/releases/download/v0.0.0/u2net.onnx' to file 'C:\\Users\\f\\.u2net\\u2net.onnx'.\n",
      "100%|########################################| 176M/176M [00:00<00:00, 176GB/s]\n"
     ]
    },
    {
     "name": "stdout",
     "output_type": "stream",
     "text": [
      "Imagem processada: 1058-CHICKEN TRAD C VALE 2,5KG (CX 10KG).png\n",
      "Imagem processada: 1079-TIRINHA FRANGO EMP C VALE 1KG (CX 10KG) 1.png\n",
      "Imagem processada: 11-COXA S-COXA FNG.C.VALE INDIV.CX 18KG.png\n",
      "Imagem processada: 1133-MUSSARELA CRIOULO BOLINHA KG (+-320G).png\n",
      "Imagem processada: 1134-MUSSARELA CRIOULO KG (PC 3,95KG).png\n",
      "Imagem processada: 1140 - File peito c.Valle pct.png\n",
      "Imagem processada: 1148-QUEIJO COALHO CRIOULO KG (+-400G).png\n",
      "Imagem processada: 1152-QUEIJO ESTEPE CRIOULO KG (+-6KG).png\n",
      "Imagem processada: 1153-QUEIJO GORGONZOLA AZUL CRIOULO KG(+-3KG).png\n",
      "Imagem processada: 1156-QUEIJO MINAS MEIA CURA P-PAO QUEI(+-3KG).png\n",
      "Imagem processada: 1159-QUEIJO MINAS PAD MEIA LUA KG (+-500G).png\n",
      "Imagem processada: 1165-QUEIJO PRATO CRIOULO KG (PC 3KG).png\n",
      "Imagem processada: 1166-QUEIJO PRATO ESFERICO KG (+-1,5KG).png\n",
      "Imagem processada: 1170-QUEIJO REINO CRIOULO KG (+-1,2KG).png\n",
      "Imagem processada: 1173-QUEIJO TP GOUDA CRIOULO PC (+-3KG).png\n",
      "Imagem processada: 1174-QUEIJO TP GOUDA FRAC CRIOULO KG(+-300G).png\n",
      "Imagem processada: 1178-REQUEIJAO CRIOULO CP VD 250G (CX 12UN).png\n",
      "Imagem processada: 1202-QUEIJO RALADO CRIOULO 50G (CX 20UN).png\n",
      "Imagem processada: 1490-Coração Fgo. C-Vale cx18Kg.png\n",
      "Imagem processada: 1513-COXINHA ASA TEMP C VALE PCT KG (CX 18KG).png\n",
      "Imagem processada: 1536-FRANGO A PASS C VALE IQF 1KG (CX 15KG).png\n",
      "Imagem processada: 1927-BATATA CHIC 1,5KG S-CASCA (CX15KG).png\n",
      "Imagem processada: 2120-FILE PEITO FNG EMP C VALE 1KG (CX10KG).png\n",
      "Imagem processada: 2455-CHICKEN TRAD C VALE 1KG (CX 10KG).png\n",
      "Imagem processada: 2758-FILE PEITO GRELHADO CVALE 1KG (CX 10KG).png\n",
      "Imagem processada: 2815-ISCAS TILAPIA C VALE 4X2KG (CX 8KG).png\n",
      "Imagem processada: 3084-ISCAS TILAPIA C VALE 16X500G (CX 8KG).png\n",
      "Imagem processada: 35339-HASH-BROWN-430G.png\n",
      "Imagem processada: 3850-FILE PEITO FNG DESF C VALE (PCT 2,5KG).png\n",
      "Imagem processada: 3982.png\n",
      "Imagem processada: 4036 - QUEIJO COALHO CRIOULO PC +- 3,400KG.png\n",
      "Imagem processada: 4227-QUEIJO TIPO BRIE FORMA +- 3X1,100KG.png\n",
      "Imagem processada: 4264-QUEIJO GORGONZOLA CRIOULO CUNHA +- 12X0,185GR.png\n",
      "Imagem processada: 4523 - CAUDA LAGOSTA MARIS 330G (CX 5,94KG).png\n",
      "Imagem processada: 4524 - CAMARAO SCAB COZ 25-30 MARIS 200G(CX8KG.png\n",
      "Imagem processada: 4525-CAMARAO DESC COZ 30-35 MARIS 200G (CX 8KG).png\n",
      "Imagem processada: 4525-CAMARAO DESC COZ 51-60 MARIS 200G (CX8KG).png\n",
      "Imagem processada: 4527 - CAMARAO DESC COZ 70-105 MARIS 400G(CX8KG (2).png\n",
      "Imagem processada: 4528 - CAMARAO INT COZ 16-30 MARIS 200G (CX8KG.png\n",
      "Imagem processada: 4529 - CAMARAO DES EVI COZ 35-45 MARIS 400G(CX8.png\n",
      "Imagem processada: 4530-CAMARAO S-CAB 61-70 MARIS 5KG (CX 10KG).png\n",
      "Imagem processada: 4531 - CAMARAO SCAB COZ 55-80 MARIS 400G(CX8KG.png\n",
      "Imagem processada: 4668-CAMARAO INT 250-300 MARIS 5KG (CX 10KG).png\n",
      "Imagem processada: 4731-QUEIJO PROVOLONE FRESCO DEF.PC +-3KG.png\n",
      "Imagem processada: 4843 QUEIJO CAMEMBERT.png\n",
      "Imagem processada: 4845 QUEIJO REINO.png\n",
      "Imagem processada: 4846 QUEIJO BRIE FATIA.png\n",
      "Imagem processada: 4848 MINAS FRESCAL.png\n",
      "Imagem processada: 4850 QUEIJO PRATO ESFERICO.png\n",
      "Imagem processada: 5454 QUEIJO GRANA.png\n",
      "Imagem processada: 6181 - File peito empanado c.Vale 1 kg.png\n",
      "Imagem processada: 6827 - c.kitos c.vale 300g.png\n",
      "Imagem processada: 6828 - Golden ball bacon c.vale 300g (2) 1.png\n",
      "Imagem processada: 75 - Filezinho peito empanado c.vale pct 2,5 kg.png\n",
      "Imagem processada: 7833-MOELA FNG.C.VALE PCT.CX 18KG.png\n",
      "Imagem processada: CRINKLE-20KG-640-x-450-mm.png\n",
      "Imagem processada: FASTFOOD-20KG-640-x-400-mm.png\n",
      "Imagem processada: FININHA 700G.png\n",
      "Imagem processada: FININHA-15kg.png\n",
      "Imagem processada: Formatados-Dadinho-105kg-copy.png\n",
      "Imagem processada: Formatados-Hash-Brown-Tradicional-106kg-copy.png\n",
      "Imagem processada: Formatados-Hash-Brown-Triangular-106kg-copy.png\n",
      "Imagem processada: Formatados-Mini-Hash-Brown-106kg-copy.png\n",
      "Imagem processada: RUSTICA-10KG-530-x-325-mm.png\n",
      "Imagem processada: SELECAO-ESPECIAL-700G-530-x-265-mm.png\n",
      "Imagem processada: TRADICIONAL-15KG-640-x-370-mm.png\n",
      "Imagem processada: TRADICIONAL-400G-530-x-325-mm.png\n",
      "Imagem processada: _MG_7904.png\n",
      "Imagem processada: _MG_7905.png\n",
      "Imagem processada: _MG_7906.png\n",
      "Imagem processada: _MG_7913.png\n"
     ]
    }
   ],
   "source": [
    "processar_todas_imagens(r\"C:\\Users\\f\\Desktop\\Pós-Graduação em Ciência de Dados\\Colina\", r\"C:\\Users\\f\\Desktop\\Pós-Graduação em Ciência de Dados\\Colina\\pasta_saida\")"
   ]
  },
  {
   "cell_type": "code",
   "execution_count": null,
   "metadata": {},
   "outputs": [],
   "source": []
  }
 ],
 "metadata": {
  "kernelspec": {
   "display_name": "base",
   "language": "python",
   "name": "python3"
  },
  "language_info": {
   "codemirror_mode": {
    "name": "ipython",
    "version": 3
   },
   "file_extension": ".py",
   "mimetype": "text/x-python",
   "name": "python",
   "nbconvert_exporter": "python",
   "pygments_lexer": "ipython3",
   "version": "3.12.3"
  }
 },
 "nbformat": 4,
 "nbformat_minor": 2
}
